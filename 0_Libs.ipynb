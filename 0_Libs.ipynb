{


 "cells": [
  {
   "cell_type": "code",
   "execution_count": 80,
   "id": "fc39264f",
   "metadata": {},
   "outputs": [
    {
     "name": "stdout",
     "output_type": "stream",
     "text": [
      "John Jenny\n",
      "Charles Christy\n",
      "Mike Monica\n",
      "lll\n",
      "John Jenny\n",
      "Charles Christy\n",
      "Mike Monica\n"
     ]
    },
    {
     "data": {
      "text/plain": [
       "[None, None, None]"
      ]
     },
     "execution_count": 80,
     "metadata": {},
     "output_type": "execute_result"
    }
   ],
   "source": [
    "# ====================== Python Built in fuctions  and formats\n",
    "print(f'b0 = {b0:.2f} and b1 = {b1:.2f}')\n",
    "\n",
    "for i in ['Age', 'Fare']:\n",
    "  plt.title('Overlaid histogram for {}'.format(i))\n",
    "\n",
    "#  https://www.w3schools.com/python/python_ref_functions.asp\n",
    "'''  zip() - return zip object. The Python zip() function accepts iterable items and merges them into a single tuple. \n",
    "The resultant value is a zip object that stores pairs of iterables. You can pass lists, tuples, sets, or dictionaries through the zip() function.\n",
    "The zip() function returns a zip object, which is an iterator of tuples where the first item in each passed iterator is paired together, and then the second item in each passed iterator are paired together etc.\n",
    "'''\n",
    "\n",
    "a = (\"John\", \"Charles\", \"Mike\")\n",
    "b = (\"Jenny\", \"Christy\", \"Monica\", \"Vicky\")\n",
    "[print(x+' '+y) for (x, y) in zip(a, b)]\n",
    "print('lll')\n",
    "\n",
    "\n",
    "#or this also may use np.column_stack()\n",
    "import numpy as np\n",
    "a = (\"John\", \"Charles\", \"Mike\")\n",
    "b = (\"Jenny\", \"Christy\", \"Monica\")\n",
    "[print(x+' '+y) for (x, y) in np.column_stack((a, b))]\n",
    "#  dstack() - \n"
   ]
  },
  {
   "cell_type": "code",
   "execution_count": null,
   "id": "29f341e5",
   "metadata": {},
   "outputs": [],
   "source": [
    "# Доучить библиотеки  по материалам -  https://www.w3schools.com/statistics/index.php\n",
    "# Виды распределений , плотность распр,  стат проверки гипотез https://www.w3schools.com/statistics/index.php"
   ]
  },
  {
   "cell_type": "code",
   "execution_count": 46,
   "id": "fcdbc512",
   "metadata": {},
   "outputs": [
    {
     "name": "stdout",
     "output_type": "stream",
     "text": [
      "[[10 21 32]\n",
      " [10 21 32]]\n",
      "[[10 19 28]\n",
      " [10 19 28]]\n",
      "[0 1 4]\n",
      "[0.         1.68294197 1.81859485]\n"
     ]
    },
    {
     "data": {
      "text/plain": [
       "120"
      ]
     },
     "execution_count": 46,
     "metadata": {},
     "output_type": "execute_result"
    }
   ],
   "source": [
    "# ==========================================1.NumPy (3.8) =====================================\n",
    "from numpy import *\n",
    "a = array([2,3,4])\n",
    "b = array ([ (1.5, 2, 3) ,(4,5,6)  ])\n",
    "\n",
    "b.T     # transpone array\n",
    "b.shape # count columns and lines , ...\n",
    "b.ravel() # convert to 1D array\n",
    "b.ndim  # dimension 1,2, .. мерный\n",
    "b.size # общее кол-во элементов\n",
    "z = zeros((3,2)) # создает двумерный массив и заполняет 0\n",
    "arange(10,30,5)  # generate array start=10, end=30 (not included), step=5\n",
    "linspace(0,2,9)  # generate array start= 0, end=2 (included), count = 9 with equal step \n",
    "arange(12).reshape(4,3)  # из одномерного массива любой другой мерный\n",
    "\n",
    "# Операции +- между массива происходит поэлементно\n",
    "a = array([(10, 20, 30),(10, 20, 30) ])\n",
    "b = arange(3)\n",
    "print(a+b)\n",
    "print(a-b)\n",
    "print(b**2)\n",
    "print(2*sin(b))\n",
    "b<1\n",
    "sum(a)  # sum all elements of array\n",
    "\n",
    "\n",
    "np.concatenate() #Join a sequence of arrays along an existing axis.\n",
    "        #s1 = np.array([[1,2],[3,4]])\n",
    "        #s2 = array([[5,6]]) \n",
    "        #np.concatenate((s1,s2.T), axis = 0) # объединение по столбцу , должно быть одинаковое кол-во столбцов в масивах\n",
    "        #np.concatenate((s1,s2.T), axis = 1) # объединение по строкам, должно быть одинаковое кол-во строк в масивах\n",
    "        #np.concatenate((s1,s2), axis = None) # все элементы массивов собирает в одну строку 1-мерного массива\n",
    "\n",
    "np.column_stack() # из строк делает колонки и соедяняет\n",
    "       # function is used to stack 1-D arrays as columns into a 2-D array #  like concatenate() , zip() \n",
    "        # e.g. a = (\"John\", \"Charles\", \"Mike\")   b = (\"Jenny\", \"Christy\", \"Monica\")    np.column_stack((a, b)) '''\n",
    "        # s1 = array((2,3,4))     s2 = array((5,6,7))    s0 = np.column_stack((s1,s2)) \n",
    "        \n",
    "np.x.all()  # Use a.any() or a.all() if you try to get the truth value of a numpy array with more than one element. To solve this error, you can use the any() function if you want at least one element in the array to return True or the all() function if you want all the elements in the array to return True\n",
    "        # e.g. x = np.array((3,4,5))  y = np.array((4,5,6))  np.column_stack((x,y))\n",
    "  \n",
    "\n",
    "# satistics for array like describe()\n",
    "from scipy import stats\n",
    "stats.describe([1,2,3,4,5])   # DescribeResult(nobs=5, minmax=(1, 5), mean=3.0, variance=2.5, skewness=0.0, kurtosis=-1.3)  \n",
    "#np.mean(), ..., std, var,\n",
    "\n",
    "#numpy.delete(arr, obj, axis=None)\n",
    "np.delete(a, 2, 0) # удаляет 2 строки, если поствить 1 , то  2 столбца и др.варианты есть  \n",
    "\n",
    "# create numpy.ndarray on where condition \n",
    "np.where(train_df['Cabin'].isnull(), 0, 1)\n"
   ]
  },
  {
   "cell_type": "code",
   "execution_count": 43,
   "id": "9a87e757",
   "metadata": {},
   "outputs": [
    {
     "name": "stderr",
     "output_type": "stream",
     "text": [
      "C:\\Users\\Asus\\anaconda3\\lib\\site-packages\\seaborn\\distributions.py:2619: FutureWarning: `distplot` is a deprecated function and will be removed in a future version. Please adapt your code to use either `displot` (a figure-level function with similar flexibility) or `kdeplot` (an axes-level function for kernel density plots).\n",
      "  warnings.warn(msg, FutureWarning)\n"
     ]
    },
    {
     "data": {
      "text/plain": [
       "<AxesSubplot:ylabel='Density'>"
      ]
     },
     "execution_count": 43,
     "metadata": {},
     "output_type": "execute_result"
    },
    {
     "data": {
      "image/png": "[encoded data removed]",
      "text/plain": [
       "<Figure size 432x288 with 1 Axes>"
      ]
     },
     "metadata": {
      "needs_background": "light"
     },
     "output_type": "display_data"
    }
   ],
   "source": [
    "import numpy as np\n",
    "import seaborn as sns\n",
    "import matplotlib.pyplot as plt\n",
    "\n",
    "np.std(x)  # std x - standart deviation \n",
    "np.mean(x) # mean x - standart deviation \n",
    "np.polyfit(x,y,1) # Fit a polynomial p(x) = p[0] * x**deg + ... + p[deg] of degree deg to points (x, y) \n",
    "\n",
    "#random.randn\n",
    "np.random.normal(size=10)\n",
    "np.random.normal(loc=10, scale=2.5, size=(2, 3))  # norm.distr   # or size = 6 , такой же результат можо получить в модуле scipy\n",
    "np.random.randint(1000)           # Generate a random integer from 0 to 1000\n",
    "np.random.randint(50,100,30)      # Generate a random integer from 50 to 100 count 30 elements\n",
    "np.random.randint(100, size=(5))  # Generate Generate Random Array  integer from 0 to 1000\n",
    "np.random.rand()                  # Generate Random Float  from 0 to 1\n",
    "np.random.choice([3, 5, 7, 9])    # Generate Random Number From Array\n",
    "np.random.choice([3, 5, 7, 9], size=(3, 5))  # Generate Random Number From Array allows you to return an array of values.\n",
    "np.random.choice([3, 5, 7, 9], p=[0.1, 0.3, 0.6, 0.0], size=(10)) #  The sum of all probability numbers should be 1\n",
    "\n",
    "#The main difference is that normal distribution is continous whereas binomial is discrete, but if there are enough data points it will be quite similar to normal distribution with certain loc and scale\n",
    "#sns.distplot(np.random.normal(loc=50, scale=5, size=1000), hist=False, label='normal')\n",
    "#sns.distplot(np.random.binomial(n=100, p=0.5, size=1000), hist=False, label='binomial')\n",
    "#sns.distplot(np.random.poisson(lam=2, size=1000), kde=False)\n",
    "#sns.distplot(np.random.uniform(10, 20, size=1000), hist=False) size=(2, 3) # size=(2, 3)\n",
    "sns.distplot(np.random.logistic(loc=0, scale=1, size=1000), hist=False) # size=(2, 3)\n",
    "# еще пару распределений дописать"
   ]
  },
  {
   "cell_type": "code",
   "execution_count": 106,
   "id": "fbec4ae2",
   "metadata": {},
   "outputs": [
    {
     "data": {
      "text/plain": [
       "0.0015999999999999992"
      ]
     },
     "execution_count": 106,
     "metadata": {},
     "output_type": "execute_result"
    }
   ],
   "source": [
    "#===================================== 5. SciPy======================================\n",
    "import numpy as np\n",
    "import scipy.stats as stats\n",
    "import matplotlib.pyplot as plt\n",
    "\n",
    "stats.norm.rvs(loc=10, scale=2.5, size=30)   # norm distr with  mean, variance, number . ###Or size=(2, 3)-  array 2X3\n",
    "stats.norm.fit(data)   # mean, variance     # mu, std = stats.norm.fit(data)   data=norm.rvs(loc=10, scale=2.5, size=30)  \n",
    "\n",
    "stats.norm.cdf(3)      # function find the probability of getting less than a Z-value of 3 sigma   ### p -value right tail 1 - stats.norm.cdf(3)      ### p -value right tail\n",
    "stats.norm.ppf(0.9)    # function find the z-value separating the bottom 90%  from the top 10% , right tail  ### z(test) - value\n",
    "#stats.norm.pdf()       # density of probability\n",
    "\n",
    "stats.t.cdf(2.1, 29)   # function find the probability of getting less than a t-value of 2.1 with 29 degrees of freedom\n",
    "stats.t.ppf(0.75, 29)  # function find the t-value (left tail) separating bottom 75% from the top 25% with 29 degrees of freedom\n",
    "stats.t.ppf(1-0.05/2, 29) # between\n",
    "stats.t.ppf(1-0.01, 29)  # t-value right tail\n",
    "\n",
    "stats.norm.ppf(1-0.05)\n",
    "stats.norm.cdf(0.791)  #p-val = 0.7855280042561279\n",
    "\n",
    "stats.t.ppf(1-0.01, 29)\n",
    "#x = np.linspace(xmin, xmax, 100)\n",
    "# p = stats.norm.pdf(x, mu, std)\n",
    "#stats.norm.pdf() # density of probability\n",
    "\n",
    "#stats.f.pdf(x, dfn, dfd)   # fuction F-distr. with freedome between groupsa and within groups (dfn, dfd)\n",
    "stats.f.pdf(12, 2, 6)\n",
    "#x = np.linspace(0, F+1)\n",
    "#plt.plot(x, stats.f.pdf(x, dfn, dfd),'r-', lw=5, alpha=0.6, label='f pdf')\n",
    "#mean, var, skew, kurt = norm.stats(moments='mvsk')\n",
    "#norm.stats(moments='mvsk')\n"
   ]
  },
  {
   "cell_type": "code",
   "execution_count": 113,
   "id": "9a7800f5",
   "metadata": {},
   "outputs": [
    {
     "name": "stderr",
     "output_type": "stream",
     "text": [
      "C:\\Users\\Asus\\anaconda3\\lib\\site-packages\\seaborn\\distributions.py:2619: FutureWarning: `distplot` is a deprecated function and will be removed in a future version. Please adapt your code to use either `displot` (a figure-level function with similar flexibility) or `histplot` (an axes-level function for histograms).\n",
      "  warnings.warn(msg, FutureWarning)\n"
     ]
    },
    {
     "data": {
      "image/png": "[encoded data removed]",
      "text/plain": [
       "<Figure size 432x288 with 1 Axes>"
      ]
     },
     "metadata": {
      "needs_background": "light"
     },
     "output_type": "display_data"
    },
    {
     "name": "stderr",
     "output_type": "stream",
     "text": [
      "C:\\Users\\Asus\\anaconda3\\lib\\site-packages\\seaborn\\distributions.py:2619: FutureWarning: `distplot` is a deprecated function and will be removed in a future version. Please adapt your code to use either `displot` (a figure-level function with similar flexibility) or `kdeplot` (an axes-level function for kernel density plots).\n",
      "  warnings.warn(msg, FutureWarning)\n"
     ]
    },
    {
     "data": {
      "image/png": "[encoded data removed]",
      "text/plain": [
       "<Figure size 432x288 with 1 Axes>"
      ]
     },
     "metadata": {
      "needs_background": "light"
     },
     "output_type": "display_data"
    }
   ],
   "source": [
    "# ======================== 2.Seaborn ==========================\n",
    "import matplotlib.pyplot as plt\n",
    "import seaborn as sns\n",
    "\n",
    "sns.distplot(np.random.normal(size=1000), hist=True) \n",
    "plt.show()\n",
    "\n",
    "sns.distplot([0, 1, 2, 3, 4, 5],hist=False)\n",
    "plt.show()"
   ]
  },
  {
   "cell_type": "code",
   "execution_count": null,
   "id": "2b828f00",
   "metadata": {},
   "outputs": [],
   "source": [
    "#sns.dis(t)plot for continious features\n",
    "for i in ['Age', 'Fare']:\n",
    "  died = list(train_df[train_df['Survived'] == 0][i].dropna())\n",
    "  survived = list(train_df[train_df['Survived'] == 1][i].dropna())\n",
    "  xmin = min(min(died), min(survived))\n",
    "  xmax = max(max(died), max(survived))\n",
    "  width = (xmax - xmin) / 40\n",
    "  sns.distplot(died, color='r', kde=False, bins=np.arange(xmin, xmax, width))\n",
    "  sns.distplot(survived, color='g', kde=False, bins=np.arange(xmin, xmax, width))\n",
    "  plt.legend(['Did not survive', 'Survived'])\n",
    "  plt.title('Overlaid histogram for {}'.format(i))\n",
    "  plt.show()\n",
    "\n",
    "#  sns.catplot for categorical features\n",
    "for i, col in enumerate(['Cabin_indicator', 'Sex', 'Embarked']):\n",
    "  plt.figure(i)\n",
    "  sns.catplot(x=col, y='Survived', data=train_df, kind='point', aspect=2,)"
   ]
  },
  {
   "cell_type": "code",
   "execution_count": null,
   "id": "adb87058",
   "metadata": {},
   "outputs": [],
   "source": [
    "# distplot slow 2 histograms on one plot cpmpare to displot\n",
    "# pyplot помжно использовать для перекрывающихся гистограм \n",
    "\n",
    "for i in ['Age', 'Fare']:\n",
    "  died = list(train_df[train_df['Survived'] == 0][i].dropna())\n",
    "  survived = list(train_df[train_df['Survived'] == 1][i].dropna())\n",
    "  xmin = min(min(died), min(survived))\n",
    "  xmax = max(max(died), max(survived))\n",
    "  width = (xmax - xmin) / 40\n",
    "  sns.displot(died, color='r', kde=False, bins=np.arange(xmin, xmax, width))\n",
    "  sns.displot(survived, color='g', kde=False, bins=np.arange(xmin, xmax, width))\n",
    "  plt.legend(['Did not survive', 'Survived'])\n",
    "  plt.title('Overlaid histogram for {}'.format(i))\n",
    "  plt.show()\n",
    "    \n",
    "    "
   ]
  },
  {
   "cell_type": "code",
   "execution_count": 29,
   "id": "f5008a28",
   "metadata": {},
   "outputs": [
    {
     "name": "stdout",
     "output_type": "stream",
     "text": [
      "[0.         0.55555556 1.11111111 1.66666667 2.22222222 2.77777778\n",
      " 3.33333333 3.88888889 4.44444444 5.        ]\n",
      "[ 0.          0.30864198  1.2345679   2.77777778  4.9382716   7.71604938\n",
      " 11.11111111 15.12345679 19.75308642 25.        ]\n"
     ]
    },
    {
     "data": {
      "image/png": "[encoded data removed]",
      "text/plain": [
       "<Figure size 432x288 with 1 Axes>"
      ]
     },
     "metadata": {
      "needs_background": "light"
     },
     "output_type": "display_data"
    }
   ],
   "source": [
    "#================================== 3. pylab  ==============================================\n",
    "'''PyLab – это процедурный интерфейс к библиотеке объектно-ориентированных графиков Matplotlib. \n",
    "Matplotlib – это целый пакет; \n",
    "\n",
    "matplotlib.pyplot – это модуль в Matplotlib; PyLab – это модуль, который устанавливается вместе с Matplotlib\n",
    "PyLab – это удобный модуль, который массово импортирует matplotlib.pyplot (для построения графиков) и NumPy (для математики и работы с массивами) в одном пространстве имен. \n",
    "Хотя во многих примерах используется PyLab, он больше не рекомендуется\n",
    "'''\n",
    "#left, right = xlim()  # return the current xlim\n",
    "#xlim((left, right))   # set the xlim to left, right\n",
    "#xlim(left, right)     # set the xlim to left, right\n",
    "\n",
    "from pylab import *\n",
    "x = linspace(0,5,10)\n",
    "y = x**2\n",
    "print(x)\n",
    "print(y)\n",
    "\n",
    "# %matplotlib inline               # типа чтобы строило прям в ячейке, и так без этого строит\n",
    "figure()\n",
    "plot(x,y,'b')\n",
    "xlabel('x axit')\n",
    "ylabel('y axit')\n",
    "title('My first beautiful plot')\n",
    "show()\n",
    "#plt.close() # delete fig\n"
   ]
  },
  {
   "cell_type": "code",
   "execution_count": 112,
   "id": "6ca61ced",
   "metadata": {},
   "outputs": [
    {
     "data": {
      "text/plain": [
       "[<matplotlib.lines.Line2D at 0x1d74dab82b0>]"
      ]
     },
     "execution_count": 112,
     "metadata": {},
     "output_type": "execute_result"
    },
    {
     "data": {
      "image/png": "[encoded data removed]",
      "text/plain": [
       "<Figure size 432x288 with 1 Axes>"
      ]
     },
     "metadata": {
      "needs_background": "light"
     },
     "output_type": "display_data"
    }
   ],
   "source": [
    "# https://matplotlib.org/stable/tutorials/colors/index.html\n",
    "import numpy as np\n",
    "import matplotlib.pyplot as plt\n",
    "import matplotlib as mpl\n",
    "from cycler import cycler\n",
    "\n",
    "data = np.random.randn(50)\n",
    "# https://matplotlib.org/stable/users/prev_whats_new/dflt_style_changes.html  -  тут все возможные настройки\n",
    "\n",
    "# from pyLab import rcParam - можно так же из этой библиотеки брать параметры вместо matplotlib\n",
    "mpl.rcParams['axes.prop_cycle'] = cycler(color=['b']) #cycler(color=['b', 'g', 'r', 'c', 'm', 'y', 'k'])\n",
    "#mpl.rcParams['lines.linewidth'] = 2\n",
    "mpl.rcParams['lines.linestyle'] = '-'\n",
    "mpl.rcParams['lines.color'] = 'b'\n",
    "#mpl.rc('lines', linewidth=4, linestyle='-.')\n",
    "\n",
    "#mpl.rcParams['grid.color'] = 'k'\n",
    "#mpl.rcParams['grid.linestyle'] = ':'\n",
    "#mpl.rcParams['grid.linewidth'] = 0.5\n",
    "plt.plot(data)"
   ]
  },
  {
   "cell_type": "code",
   "execution_count": 27,
   "id": "eb49f519",
   "metadata": {},
   "outputs": [
    {
     "data": {
      "text/plain": [
       "Text(0.5, 1.0, 'Title')"
      ]
     },
     "execution_count": 27,
     "metadata": {},
     "output_type": "execute_result"
    },
    {
     "data": {
      "image/png": "[encoded data removed]",
      "text/plain": [
       "<Figure size 432x288 with 1 Axes>"
      ]
     },
     "metadata": {
      "needs_background": "light"
     },
     "output_type": "display_data"
    }
   ],
   "source": [
    "# Тот же график можно построить подругому\n",
    "fig = plt.figure()\n",
    "axes = fig.add_axes([0.1, 0.1, 0.8, 0.8]) # у обекта fig метод add_axes left ,buttom, width, height \n",
    "axes.plot(x,y,'r')\n",
    "\n",
    "axes.set_xlabel('x')\n",
    "axes.set_ylabel('y')\n",
    "axes.set_title('Title')"
   ]
  },
  {
   "cell_type": "code",
   "execution_count": 30,
   "id": "0d3725bc",
   "metadata": {},
   "outputs": [
    {
     "data": {
      "text/plain": [
       "Text(0.5, 1.0, 'title2')"
      ]
     },
     "execution_count": 30,
     "metadata": {},
     "output_type": "execute_result"
    },
    {
     "data": {
      "image/png": "[encoded data removed]",
      "text/plain": [
       "<Figure size 432x288 with 2 Axes>"
      ]
     },
     "metadata": {
      "needs_background": "light"
     },
     "output_type": "display_data"
    }
   ],
   "source": [
    "# Два графика на одном\n",
    "fig = plt.figure()\n",
    "axes1 = fig.add_axes([0.1, 0.1, 0.8, 0.8])  # main axes\n",
    "axes2 = fig.add_axes([0.2, 0.5, 0.4 , 0.3]) # inset axes\n",
    "\n",
    "#main figure\n",
    "axes1.plot(x,y,'r')\n",
    "axes1.set_xlabel('x')\n",
    "axes1.set_ylabel('y')\n",
    "axes1.set_title('title1')\n",
    "\n",
    "#inset figure\n",
    "axes2.plot(y,x,'b')\n",
    "axes2.set_xlabel('x')\n",
    "axes2.set_ylabel('y')\n",
    "axes2.set_title('title2')"
   ]
  },
  {
   "cell_type": "code",
   "execution_count": 33,
   "id": "34141cf8",
   "metadata": {},
   "outputs": [
    {
     "data": {
      "image/png": "[encoded data removed]",
      "text/plain": [
       "<Figure size 432x288 with 2 Axes>"
      ]
     },
     "metadata": {
      "needs_background": "light"
     },
     "output_type": "display_data"
    }
   ],
   "source": [
    "# Два графика отдельно\n",
    "fig, axes = plt.subplots(nrows = 1, ncols = 2)   ##fig, (ax1, ax2) = plt.subplots(1, 2) the same result\n",
    "fig.suptitle('Main title', fontsize=18)\n",
    "\n",
    "i=1\n",
    "for ax in axes:\n",
    "    ax.plot(x,y,'r')\n",
    "    ax.set_xlabel('x')\n",
    "    ax.set_ylabel('y')\n",
    "    ax.set_title('title'+ str(i))\n",
    "    i+=1\n",
    "    \n",
    "fig.tight_layout()   #чтобы графики не пересекались  "
   ]
  },
  {
   "cell_type": "code",
   "execution_count": null,
   "id": "7a333432",
   "metadata": {},
   "outputs": [],
   "source": [
    "# Как настраивать размер\n",
    "fig , axes = plt.subplots(figsize = (12,3))    \n",
    "axes.plot(x,y,'r')\n",
    "axes.set_xlabel('x')\n",
    "axes.set_xlabel('y')\n",
    "axes.set_title('title')\n"
   ]
  },
  {
   "cell_type": "code",
   "execution_count": 6,
   "id": "027ca224",
   "metadata": {},
   "outputs": [
    {
     "data": {
      "text/plain": [
       "Text(0.5, 1.0, 'title')"
      ]
     },
     "execution_count": 6,
     "metadata": {},
     "output_type": "execute_result"
    },
    {
     "data": {
      "image/png": "[encoded data removed]",
      "text/plain": [
       "<Figure size 432x288 with 1 Axes>"
      ]
     },
     "metadata": {
      "needs_background": "light"
     },
     "output_type": "display_data"
    }
   ],
   "source": [
    "# несколько линий на одном графике\n",
    "fig, ax = plt.subplots()\n",
    "\n",
    "ax.plot(x, x**2, 'r', label = 'y = x**2')\n",
    "ax.plot(x, x**3, 'g', label = 'y = x**3')\n",
    "ax.legend(loc = 2 ) # upper left coner\n",
    "ax.set_xlabel('x')\n",
    "ax.set_ylabel('y')\n",
    "ax.set_title('title')"
   ]
  },
  {
   "cell_type": "code",
   "execution_count": 7,
   "id": "29c5cb43",
   "metadata": {},
   "outputs": [
    {
     "data": {
      "text/plain": [
       "(-4.126209101214845, 3.579691740374284)"
      ]
     },
     "execution_count": 7,
     "metadata": {},
     "output_type": "execute_result"
    },
    {
     "data": {
      "image/png": "[encoded data removed]",
      "text/plain": [
       "<Figure size 864x288 with 2 Axes>"
      ]
     },
     "metadata": {
      "needs_background": "light"
     },
     "output_type": "display_data"
    }
   ],
   "source": [
    "# Гитограмма\n",
    "from numpy import *\n",
    "n = random.randn(10000) # function from numpy\n",
    "# print( type(n))\n",
    "# print (size(n))\n",
    "# print (n[1])\n",
    "\n",
    "fig , axes = plt.subplots( 1, 2 , figsize = (12,4) ) # 1 стока 2 столбца и размер фигуры\n",
    "\n",
    "axes[0].hist(n)\n",
    "axes[0].set_title('Default histogram')\n",
    "axes[0].set_xlim( min(n), max(n) )\n",
    "                 \n",
    "axes[1].hist(n , cumulative = 1, bins = 50)\n",
    "axes[1].set_title('Cumulative histogram')    \n",
    "axes[1].set_xlim( min(n),max(n)  )        "
   ]
  },
  {
   "cell_type": "code",
   "execution_count": 8,
   "id": "32b57550",
   "metadata": {},
   "outputs": [
    {
     "data": {
      "image/png": "[encoded data removed]",
      "text/plain": [
       "<Figure size 432x288 with 1 Axes>"
      ]
     },
     "metadata": {
      "needs_background": "light"
     },
     "output_type": "display_data"
    }
   ],
   "source": [
    "from pylab import *\n",
    "\n",
    "x, y, z, a = [], [], [], []\n",
    "for i in range(2000):\n",
    "    x.append(i/1000)\n",
    "    y.append((i/1000)**0.5)\n",
    "    z.append((i/1000)**(1/3))\n",
    "    a.append((i/1000)**(1/20))\n",
    "\n",
    "figure()\n",
    "plot (x, y, 'r')\n",
    "plot (x, z, 'b')\n",
    "plot (x, a, 'g')\n",
    "show()"
   ]
  },
  {
   "cell_type": "code",
   "execution_count": null,
   "id": "2d398634",
   "metadata": {},
   "outputs": [],
   "source": [
    "from IPython.display import Image\n",
    "# Image('http://jakevdp.github.com/figures/xkcd_version.png')\n",
    "# Image('http://jakevdp.github.com/figures/mpl_version.png')"
   ]
  },
  {
   "cell_type": "code",
   "execution_count": 44,
   "id": "0f379f0b",
   "metadata": {},
   "outputs": [
    {
     "data": {
      "image/png": "[encoded data removed]",
      "text/plain": [
       "<Figure size 432x288 with 1 Axes>"
      ]
     },
     "metadata": {
      "needs_background": "light"
     },
     "output_type": "display_data"
    }
   ],
   "source": [
    "import matplotlib.pyplot as plt\n",
    "import numpy as np\n",
    "\n",
    "N = 100\n",
    "x = np.array([np.random.randint(50,100) for i in range(N)])\n",
    "y = np.array([i+np.random.randint(80,120)-np.random.randint(-20,20) for i in x])\n",
    "plt.scatter(x, y)\n",
    "\n",
    "b1, b0 = np.polyfit(x, y, 1)  #  b1 - slope , b0 - intercept\n",
    "\n",
    "plt.plot(x, b0 + b1*x, color='red')\n",
    "plt.show()"
   ]
  },
  {
   "cell_type": "code",
   "execution_count": 10,
   "id": "d07c7360",
   "metadata": {},
   "outputs": [
    {
     "data": {
      "text/plain": [
       "black        NaN\n",
       "blue         NaN\n",
       "green        NaN\n",
       "orange       NaN\n",
       "red       2400.0\n",
       "yellow    1500.0\n",
       "dtype: float64"
      ]
     },
     "execution_count": 10,
     "metadata": {},
     "output_type": "execute_result"
    }
   ],
   "source": [
    "# ================================== 4.Pandas ==================================================\n",
    "'''\n",
    "Ядром pandas являются две структуры данных, в которых происходят все операции:\n",
    " - Series - это структура, используемая для работы с последовательностью одномерных данных\n",
    " - Dataframes - более сложная и подходит для нескольких измерений\n",
    " Однако особенности этих структур основаны на одной черте — интеграции в их структуру объектов index и labels (метки)\n",
    "\n",
    "------Series\n",
    "Для создания объекта Series  необходимо вызвать конструктор Series() \n",
    "и передать в качестве аргумента массив, содержащий значения, которые необходимо включить\n",
    "\n",
    "--- Series\n",
    "Series is a one-dimensional labeled array capable of holding data of any type (integer, string, float, python objects, etc.)\n",
    "You can create a series by calling pandas. Series() . An list, numpy array, dict can be turned into a pandas series.\n",
    "A pandas Series is a one-dimensional labelled data structure which can hold data such as strings, integers and even other Python objects. \n",
    "It is built on top of numpy array and is the primary data structure to hold one-dimensional data in pandas\n",
    "он состоит из двух связанных между собой массивов. Основной содержит данные (данные любого типа NumPy), а в дополнительном, index, хранятся метки.\n",
    "\n",
    "'''\n",
    "import pandas as pd\n",
    "import numpy as np\n",
    "import scipy.stats as stats\n",
    "\n",
    "# Создать  Новый объект Series можно  - из numpy array , list ,  dict и уже существующих Series\n",
    "\n",
    "s1 = pd.Series([8,9,1])\n",
    "s2 = pd.Series([8,2,3,4], index = ['a','b','c','c'])\n",
    "s22 = s2.index.drop_duplicates()\n",
    "s22['m'] = 9    #добавление значения\n",
    "\n",
    "# Выбор элементов по индексу или метке, несколько элементов массива numpy с помощью s[:]\n",
    "# print(s2['b'],  s2[0], s2[0:2] , s2[['a','b']])\n",
    "\n",
    "# Присваивание значений элементам - по индексу или по метке\n",
    "\n",
    "# Это значит, что элементы объекта вставляются динамически в новый Series\n",
    "# Если меняется оригинальный объект, то меняются и его значения в новом\n",
    "arr = np.array([1,2,3,4])\n",
    "s3  = pd.Series(arr)\n",
    "s4 = pd.Series(s3)\n",
    "arr[0] = -999\n",
    "s4\n",
    "\n",
    "# Благодаря тому что основной библиотекой в pandas является NumPy, многие операции, применяемые к массивам NumPy, могут быть использованы и в случае с Series. \n",
    "# Одна из таких — фильтрация значений в структуре данных с помощью условий.\n",
    "k = s1[s1>8]    # choose only elements >8 \n",
    "k1 = s1>8\n",
    "\n",
    "\n",
    "#Операции и математические функции\n",
    "#Другие операции, такие как операторы (+, -, * и /), а также математические функции, работающие с массивами NumPy, могут использоваться и для Series.\n",
    "\n",
    "s1/2\n",
    "np.log(s1)\n",
    "\n",
    "# В Series часто встречаются повторения значений. Поэтому важно иметь информацию, которая бы указывала на то, есть ли дубликаты или конкретное значение в объекте.\n",
    "# функцию unique(). Возвращаемое значение — массив с уникальными значениями, необязательно в том же порядке\n",
    "serd = pd.Series([1,0,2,1,2,3], index=['white','white','blue','green',' green','yellow']) \n",
    "serd.unique() \n",
    "serd.value_counts() # возвращает не только уникальное значение, но и показывает, как часто элементы встречаются в Series.\n",
    "\n",
    "# isin() показывает, есть ли элементы на основе списка значений. Она возвращает булевые значения, которые очень полезны\n",
    "# при фильтрации данных в Series или в колонке Dataframe\n",
    "serd.isin([0,3])\n",
    "serd[serd.isin([0,3]) ]\n",
    "\n",
    "# Это значение (Not a Number) используется в структурах данных pandas для обозначения наличия пустого поля или чего-то, что невозможно обозначить в числовой форме\n",
    "s5 = pd.Series([5,-3,np.NaN,14]) \n",
    "\n",
    "# Функции isnull() и notnull() очень полезны для определения индексов без значения. Они возвращают два объекта Series \n",
    "# с булевыми значениями\n",
    "s5.isnull()\n",
    "s5.notnull()\n",
    "s5[s5.isnull()]\n",
    "s5[s5.notnull()]\n",
    "\n",
    "df.dropna() # удаляет строки.столбцы с пустыми значениями\n",
    "№train_df[train_df['Survived'] == 0]['Age'].dropna()\n",
    "\n",
    "# Series можно воспринимать как объект dict (словарь). Эта схожесть может быть использована на этапе объявления объекта.\n",
    "# Даже создавать Series можно на основе существующего dict\n",
    "mydict = {'red': 2000, 'blue': 1000, 'yellow': 500, 'orange': 1000}\n",
    "myseries = pd.Series(mydict)\n",
    "myseries.index\n",
    "mydict.keys()\n",
    "\n",
    "#соотношение будет установлено между ключами dict и метками массива индексов. Если есть несоответствие, \n",
    "# pandas заменит его на NaN. Как full/outer join in SQL \n",
    "colors = ['red','yellow','orange','blue','green']\n",
    "myseries= pd.Series(mydict, index=colors)\n",
    "myseries\n",
    "\n",
    "# Операции с сериями\n",
    "# Одно из главных достоинств этого типа структур данных в том, что он может выравнивать данные, определяя соответствующие метки.\n",
    "# Новый объект получает только те элементы, где метки совпали. Все остальные метки тоже присутствуют, но со значением NaN (:))\n",
    "mydict2 = {'red':400,'yellow':1000,'black':700}\n",
    "myseries2 = pd.Series(mydict2)\n",
    "myseries + myseries2 "
   ]
  },
  {
   "cell_type": "code",
   "execution_count": 11,
   "id": "a2bee793",
   "metadata": {},
   "outputs": [
    {
     "data": {
      "text/html": [
       "<div>\n",
       "<style scoped>\n",
       "    .dataframe tbody tr th:only-of-type {\n",
       "        vertical-align: middle;\n",
       "    }\n",
       "\n",
       "    .dataframe tbody tr th {\n",
       "        vertical-align: top;\n",
       "    }\n",
       "\n",
       "    .dataframe thead th {\n",
       "        text-align: right;\n",
       "    }\n",
       "</style>\n",
       "<table border=\"1\" class=\"dataframe\">\n",
       "  <thead>\n",
       "    <tr style=\"text-align: right;\">\n",
       "      <th>item</th>\n",
       "      <th>color</th>\n",
       "      <th>price</th>\n",
       "    </tr>\n",
       "    <tr>\n",
       "      <th>id</th>\n",
       "      <th></th>\n",
       "      <th></th>\n",
       "    </tr>\n",
       "  </thead>\n",
       "  <tbody>\n",
       "    <tr>\n",
       "      <th>0</th>\n",
       "      <td>blue</td>\n",
       "      <td>1.2</td>\n",
       "    </tr>\n",
       "    <tr>\n",
       "      <th>1</th>\n",
       "      <td>green</td>\n",
       "      <td>1.0</td>\n",
       "    </tr>\n",
       "    <tr>\n",
       "      <th>2</th>\n",
       "      <td>yellow</td>\n",
       "      <td>0.6</td>\n",
       "    </tr>\n",
       "    <tr>\n",
       "      <th>3</th>\n",
       "      <td>red</td>\n",
       "      <td>0.9</td>\n",
       "    </tr>\n",
       "  </tbody>\n",
       "</table>\n",
       "</div>"
      ],
      "text/plain": [
       "item   color  price\n",
       "id                 \n",
       "0       blue    1.2\n",
       "1      green    1.0\n",
       "2     yellow    0.6\n",
       "3        red    0.9"
      ]
     },
     "execution_count": 11,
     "metadata": {},
     "output_type": "execute_result"
    }
   ],
   "source": [
    "'''\n",
    "DataFrame (датафрейм)\n",
    "Dataframe — это табличная структура данных, напоминающая таблицы из Microsoft Excel. \n",
    "Ее главная задача — позволить использовать многомерные Series.\n",
    "Dataframe состоит из упорядоченной коллекции колонок, каждая из которых содержит значение разных типов (числовое, строковое, булевое и так далее).\n",
    "\n",
    "Простейший способ создания Dataframe — передать объект dict в конструктор DataFrame(). \n",
    "Объект dict содержит ключ для каждой колонки, которую требуется определить, а также массив значений для них\n",
    "\n",
    "Вместо использования объекта dict можно определить три аргумента в конструкторе в следующем порядке: матрицу данных, \n",
    "массив значений для параметра index и массив с названиями колонок для параметра columns.\n",
    "'''\n",
    "import numpy as np\n",
    "import pandas as pd\n",
    "\n",
    "# --------\n",
    "train_df.info()   # count not null values for each column\n",
    "frame.describe()  # dataframe method calc statistics - count , min,max, std ,mean, ...\n",
    "\n",
    "train_df.groupby(train_df['Cabin'].isnull()).mean()  # for each numerical column in df calculate mean\n",
    "\n",
    "train_df.pivot_table('Survived', index='Sex', columns='Embarked', aggfunc='count')\n",
    "train_df.drop(['Ticket'], axis=1, inplace=True)\n",
    "\n",
    "train_df.groupby(train_df['Age'].isnull()).mean() # calc mean for each numeric column grouprd by Age.isNULL\n",
    "train_df.isnull().sum() # isnull() \n",
    "\n",
    "train_df['Age'].fillna(train_df['Age'].mean(), inplace=True)\n",
    "\n",
    "np.where(train_df['Cabin'].isnull(), 0, 1) # create numpy.ndarray on where condition \n",
    "\n",
    "binary_gender = {'male': 0, 'female': 1}\n",
    "train_df['Sex'] = train_df['Sex'].map(binary_gender)\n",
    "\n",
    "# --------\n",
    "\n",
    "data = {'color' : ['blue', 'green', 'yellow', 'red', 'white'],\n",
    "        'object' : ['ball', 'pen', 'pencil', 'paper', 'mug'],\n",
    "        'price' : [1.2, 1.0, 0.6, 0.9, 1.7]}\n",
    "frame = pd.DataFrame(data)\n",
    "frame2 = pd.DataFrame(data, columns = ['object', 'price'])\n",
    "frame3 = pd.DataFrame( np.arange(16).reshape((4,4)),\n",
    "                      index = ['red', 'blue', 'yellow', 'white'],\n",
    "                      columns = ['ball', 'pen', 'pencil', 'paper'])\n",
    "frame.columns\n",
    "frame.index\n",
    "frame.values    # get numpy.ndarray object from DataFrame object\n",
    "frame['price']  # Все значения выбранной колонки\n",
    "# Возвращаемое значение — объект Series. Название колонки можно использовать и в качестве атрибута.\n",
    "\n",
    "frame.price\n",
    "# Для строк внутри Dataframe используется атрибут loc со значением индекса нужной строки.\n",
    "# Возвращаемый объект — это снова Series, где названия колонок — это уже метки массива индексов, а значения — данные Series.\n",
    "frame.loc[2]\n",
    "\n",
    "# Получить одно значение из объекта, сперва нужно указать название колонки, а потом — индекс или метку строки\n",
    "frame['color'][1]\n",
    "\n",
    "############## Присваивание и замена значений\n",
    "# Можно присвоить метку с помощью атрибута name для этих двух подструктур, чтобы идентифицировать их.\n",
    "frame.index.name = 'id'\n",
    "frame.columns.name = 'item'\n",
    "\n",
    "#Одна из главных особенностей структур данных pandas — их гибкость. Можно вмешаться на любом уровне для изменения внутренней структуры данных.\n",
    "#Например, добавление новой колонки\n",
    "frame['new'] = 12\n",
    "\n",
    "# Обновление знаечний колонки\n",
    "frame['new'] = [3.0, 1.3, 2.2, 0.8, 1.1]\n",
    "frame['new'] = np.arange(5)\n",
    "frame['new2'] = pd.Series(np.arange(5))\n",
    "#frame['price'][0] = 1\n",
    "\n",
    "\n",
    "#####    Вхождение значений\n",
    "frame.isin([1.0,'pen'])       # Возвращается Dataframe с булевыми значениями, где True указывает на те значения, где членство подтверждено\n",
    "frame[frame.isin([1.0,'pen'])] # вернется Dataframe, где будут только значения, удовлетворяющие условию\n",
    "\n",
    "#####  Удаления целой колонки и всего ее содержимого используется команда del\n",
    "del frame['new2']\n",
    "\n",
    "#####   Выбор и Фильтрация\n",
    "frame[frame.price  <  1]\n",
    "frame[frame.color  >  'blue']\n",
    "frame[(frame.price  <  1.2) & (frame.new>=2)] # and conditin\n",
    "frame[(frame.price  <  1) | (frame.color =='blue')] # or condition\n",
    "frame[frame.color.isin(['blue','red'])]\n",
    "frame[frame.color.str.startswith('b')]\n",
    "frame[frame.color.str.contains('r')]\n",
    "frame[~frame.color.str.startswith('b')] # ~ means NOT   - not starts with 'b'\n",
    "\n",
    "frame.query('color == \"blue\" or price<1.2')\n",
    "frame.nlargest(2, 'price')\n",
    "frame.nsmallest(2, 'price')\n",
    "\n",
    "#frame.loc[[2,4]]\n",
    "\n",
    "#If the dataframe has integer index, the indixes and labels of the rows are the same. \n",
    "#Thus, both loc and iloc accomplished the same thing on the rows.\n",
    "\n",
    "# iloc: select rows or columns using -   Indixes\n",
    "frame.iloc[1:4][:] # rows 1 to 3 , colums - all\n",
    "frame[1:4] # тот же результат\n",
    "frame[1:4][:] # тот же результат\n",
    "\n",
    "# loc: select rows or columns using  -  labels\n",
    "frame.loc[1:4][:] # rows 1 to 3 , colums - all\n",
    "frame.iloc[1:4,:]\n",
    "\n",
    "#Update labels of indexes\n",
    "#frame.index = ['a','b','c','d','e']\n",
    "#Now we cannot pass integers to the loc method now because the labels of indixes are letters\n",
    "#frame.loc['b':'d',:]\n",
    "#frame.loc['b':'d']\n",
    "\n",
    "frame.loc[0:3][['color','price']]\n",
    "\n",
    "# Выбрать колонки\n",
    "data = {\n",
    "  \"name\": [\"Sally\", \"Mary\", \"John\"],\n",
    "  \"age\": [50, 40, 30],\n",
    "  \"qualified\": [True, False, False]\n",
    "}\n",
    "df = pd.DataFrame(data)\n",
    "newdf = df.drop(\"age\", axis='columns')\n",
    "print(newdf)\n"
   ]
  },
  {
   "cell_type": "code",
   "execution_count": null,
   "id": "faa8fb72",
   "metadata": {},
   "outputs": [],
   "source": [
    "import numpy as np\n",
    "np.ravel()"
   ]
  },
  {
   "cell_type": "code",
   "execution_count": 21,
   "id": "e1302940",
   "metadata": {},
   "outputs": [
    {
     "data": {
      "text/html": [
       "<div>\n",
       "<style scoped>\n",
       "    .dataframe tbody tr th:only-of-type {\n",
       "        vertical-align: middle;\n",
       "    }\n",
       "\n",
       "    .dataframe tbody tr th {\n",
       "        vertical-align: top;\n",
       "    }\n",
       "\n",
       "    .dataframe thead th {\n",
       "        text-align: right;\n",
       "    }\n",
       "</style>\n",
       "<table border=\"1\" class=\"dataframe\">\n",
       "  <thead>\n",
       "    <tr style=\"text-align: right;\">\n",
       "      <th></th>\n",
       "      <th>color</th>\n",
       "      <th>object</th>\n",
       "      <th>price</th>\n",
       "    </tr>\n",
       "  </thead>\n",
       "  <tbody>\n",
       "    <tr>\n",
       "      <th>0</th>\n",
       "      <td>blue</td>\n",
       "      <td>ball</td>\n",
       "      <td>1.2</td>\n",
       "    </tr>\n",
       "    <tr>\n",
       "      <th>1</th>\n",
       "      <td>green</td>\n",
       "      <td>pen</td>\n",
       "      <td>1.0</td>\n",
       "    </tr>\n",
       "    <tr>\n",
       "      <th>2</th>\n",
       "      <td>yellow</td>\n",
       "      <td>pencil</td>\n",
       "      <td>0.6</td>\n",
       "    </tr>\n",
       "    <tr>\n",
       "      <th>3</th>\n",
       "      <td>red</td>\n",
       "      <td>paper</td>\n",
       "      <td>0.9</td>\n",
       "    </tr>\n",
       "    <tr>\n",
       "      <th>4</th>\n",
       "      <td>white</td>\n",
       "      <td>mug</td>\n",
       "      <td>1.7</td>\n",
       "    </tr>\n",
       "  </tbody>\n",
       "</table>\n",
       "</div>"
      ],
      "text/plain": [
       "    color  object  price\n",
       "0    blue    ball    1.2\n",
       "1   green     pen    1.0\n",
       "2  yellow  pencil    0.6\n",
       "3     red   paper    0.9\n",
       "4   white     mug    1.7"
      ]
     },
     "execution_count": 21,
     "metadata": {},
     "output_type": "execute_result"
    }
   ],
   "source": [
    "data = {'color' : ['blue', 'green', 'yellow', 'red', 'white'],\n",
    "        'object' : ['ball', 'pen', 'pencil', 'paper', 'mug'],\n",
    "        'price' : [1.2, 1.0, 0.6, 0.9, 1.7]}\n",
    "frame = pd.DataFrame(data)\n",
    "frame"
   ]
  },
  {
   "cell_type": "code",
   "execution_count": 12,
   "id": "bdc25abd",
   "metadata": {},
   "outputs": [
    {
     "data": {
      "text/plain": [
       "ball      0\n",
       "pen       1\n",
       "pencil    2\n",
       "paper     3\n",
       "mug       9\n",
       "dtype: int64"
      ]
     },
     "execution_count": 12,
     "metadata": {},
     "output_type": "execute_result"
    }
   ],
   "source": [
    "# \"Вложенный словарь\" будучи переданной в качестве аргумента в DataFrame(), интерпретируется pandas так, что внешние ключи становятся названиями колонок, а внутренние — метками индексов\n",
    "nestdict = {'red': { 2012: 22, 2013: 33},\n",
    "            'white': { 2011: 13, 2012: 22, 2013: 16},         \n",
    "            'blue': { 2011: 17, 2012: 27, 2013: 18}}\n",
    "fr = pd.DataFrame(nestdict)\n",
    "\n",
    "# transpone\n",
    "fr.T\n",
    "fr\n",
    "\n",
    "# Series , DataFrame - Главная особенность этих структур — наличие объекта Index, который в них интегрирован\n",
    "ser = pd.Series([5,0,3,8,4], index=['red','blue','yellow','white','green'])\n",
    "ser.index\n",
    "# В отличие от других элементов в структурах данных pandas (Series и Dataframe) объекты index — неизменяемые.\n",
    "\n",
    "# ======== У каждого объекта Index есть методы и свойства:\n",
    "ser.idxmin()\n",
    "ser.idxmax()\n",
    "# Индекс с повторяющимися метками\n",
    "# Если метке соответствует несколько значений, то она вернет не один элемент, а объект Series. То же для  Dataframe- при повторяющихся индексах он возвращает Dataframe.\n",
    "serd = pd.Series(range(6), index=['white','white','blue','green', 'green','yellow']) \n",
    "serd['white']\n",
    "\n",
    "serd.index.is_unique  #  в pandas у объектов Index есть атрибут is_unique. Он сообщает, есть ли индексы с повторяющимися метками в структуре (Series или Dataframe).\n",
    "frame.index.is_unique\n",
    "\n",
    "# ======= Операции между Series, DataFrame\n",
    "# арифметические методы\n",
    "frame.add(frame3)\n",
    "frame.add(frame2)\n",
    "frame + frame2 # то же самое\n",
    "\n",
    "# Операции между Dataframe и Series\n",
    "frame = pd.DataFrame(np.arange(16).reshape((4,4)),\n",
    "           index=['red', 'blue', 'yellow', 'white'],\n",
    "           columns=['ball','pen','pencil','paper'])\n",
    "\n",
    "ser = pd.Series(np.arange(4), index=['ball','pen','pencil','paper']) \n",
    "\n",
    "frame - ser\n",
    "# По результату видно, что элементы Series были вычтены из соответствующих тому же индексу в колонках значений Dataframe\n",
    "\n",
    "ser['mug'] = 9\n",
    "ser\n",
    "\n",
    "#Если индекс не представлен ни в одной из структур, то появится новая колонка с этим индексом и значениями NaN.\n",
    "frame - ser\n",
    "\n",
    "pd.concat() # concat only data frames and series  #pd.concat([df1, df2, df3])\n",
    "# axis : {0, 1, …}, default 0. The axis to concatenate along.  сливаем по столбцам или строкам\n",
    "# join=\"outer\",  join : {‘inner’, ‘outer’}, default ‘outer’\n",
    "# keys : sequence, default None. Construct hierarchical index using the passed keys as the outermost level\n",
    "# https://pandas.pydata.org/pandas-docs/stable/user_guide/merging.html\n",
    "# Like its sibling function  numpy.concatenate, pandas.concat \n",
    "\n",
    "pd.astype() # method change data type   like convert in sql e.g. df[\"Year\"].astype(str)"
   ]
  },
  {
   "cell_type": "code",
   "execution_count": 121,
   "id": "ba6d5a17",
   "metadata": {},
   "outputs": [
    {
     "data": {
      "text/html": [
       "<div>\n",
       "<style scoped>\n",
       "    .dataframe tbody tr th:only-of-type {\n",
       "        vertical-align: middle;\n",
       "    }\n",
       "\n",
       "    .dataframe tbody tr th {\n",
       "        vertical-align: top;\n",
       "    }\n",
       "\n",
       "    .dataframe thead th {\n",
       "        text-align: right;\n",
       "    }\n",
       "</style>\n",
       "<table border=\"1\" class=\"dataframe\">\n",
       "  <thead>\n",
       "    <tr style=\"text-align: right;\">\n",
       "      <th></th>\n",
       "      <th></th>\n",
       "      <th>A</th>\n",
       "      <th>B</th>\n",
       "      <th>C</th>\n",
       "      <th>D</th>\n",
       "    </tr>\n",
       "  </thead>\n",
       "  <tbody>\n",
       "    <tr>\n",
       "      <th rowspan=\"4\" valign=\"top\">x</th>\n",
       "      <th>0</th>\n",
       "      <td>A0</td>\n",
       "      <td>B0</td>\n",
       "      <td>C0</td>\n",
       "      <td>D0</td>\n",
       "    </tr>\n",
       "    <tr>\n",
       "      <th>1</th>\n",
       "      <td>A1</td>\n",
       "      <td>B1</td>\n",
       "      <td>C1</td>\n",
       "      <td>D1</td>\n",
       "    </tr>\n",
       "    <tr>\n",
       "      <th>2</th>\n",
       "      <td>A2</td>\n",
       "      <td>B2</td>\n",
       "      <td>C2</td>\n",
       "      <td>D2</td>\n",
       "    </tr>\n",
       "    <tr>\n",
       "      <th>3</th>\n",
       "      <td>A3</td>\n",
       "      <td>B3</td>\n",
       "      <td>C3</td>\n",
       "      <td>D3</td>\n",
       "    </tr>\n",
       "    <tr>\n",
       "      <th rowspan=\"4\" valign=\"top\">y</th>\n",
       "      <th>4</th>\n",
       "      <td>A4</td>\n",
       "      <td>B4</td>\n",
       "      <td>C4</td>\n",
       "      <td>D4</td>\n",
       "    </tr>\n",
       "    <tr>\n",
       "      <th>5</th>\n",
       "      <td>A5</td>\n",
       "      <td>B5</td>\n",
       "      <td>C5</td>\n",
       "      <td>D5</td>\n",
       "    </tr>\n",
       "    <tr>\n",
       "      <th>6</th>\n",
       "      <td>A6</td>\n",
       "      <td>B6</td>\n",
       "      <td>C6</td>\n",
       "      <td>D6</td>\n",
       "    </tr>\n",
       "    <tr>\n",
       "      <th>7</th>\n",
       "      <td>A7</td>\n",
       "      <td>B7</td>\n",
       "      <td>C7</td>\n",
       "      <td>D7</td>\n",
       "    </tr>\n",
       "    <tr>\n",
       "      <th rowspan=\"4\" valign=\"top\">z</th>\n",
       "      <th>8</th>\n",
       "      <td>A8</td>\n",
       "      <td>B8</td>\n",
       "      <td>C8</td>\n",
       "      <td>D8</td>\n",
       "    </tr>\n",
       "    <tr>\n",
       "      <th>9</th>\n",
       "      <td>A9</td>\n",
       "      <td>B9</td>\n",
       "      <td>C9</td>\n",
       "      <td>D9</td>\n",
       "    </tr>\n",
       "    <tr>\n",
       "      <th>10</th>\n",
       "      <td>A10</td>\n",
       "      <td>B10</td>\n",
       "      <td>C10</td>\n",
       "      <td>D10</td>\n",
       "    </tr>\n",
       "    <tr>\n",
       "      <th>11</th>\n",
       "      <td>A11</td>\n",
       "      <td>B11</td>\n",
       "      <td>C11</td>\n",
       "      <td>D11</td>\n",
       "    </tr>\n",
       "  </tbody>\n",
       "</table>\n",
       "</div>"
      ],
      "text/plain": [
       "        A    B    C    D\n",
       "x 0    A0   B0   C0   D0\n",
       "  1    A1   B1   C1   D1\n",
       "  2    A2   B2   C2   D2\n",
       "  3    A3   B3   C3   D3\n",
       "y 4    A4   B4   C4   D4\n",
       "  5    A5   B5   C5   D5\n",
       "  6    A6   B6   C6   D6\n",
       "  7    A7   B7   C7   D7\n",
       "z 8    A8   B8   C8   D8\n",
       "  9    A9   B9   C9   D9\n",
       "  10  A10  B10  C10  D10\n",
       "  11  A11  B11  C11  D11"
      ]
     },
     "execution_count": 121,
     "metadata": {},
     "output_type": "execute_result"
    }
   ],
   "source": [
    "import pandas as pd\n",
    "df1 = pd.DataFrame(\n",
    "    {\n",
    "        \"A\": [\"A0\", \"A1\", \"A2\", \"A3\"],\n",
    "        \"B\": [\"B0\", \"B1\", \"B2\", \"B3\"],\n",
    "        \"C\": [\"C0\", \"C1\", \"C2\", \"C3\"],\n",
    "        \"D\": [\"D0\", \"D1\", \"D2\", \"D3\"],\n",
    "    },\n",
    "    index=[0, 1, 2, 3],\n",
    ")\n",
    "df2 = pd.DataFrame(\n",
    "    {\n",
    "        \"A\": [\"A4\", \"A5\", \"A6\", \"A7\"],\n",
    "        \"B\": [\"B4\", \"B5\", \"B6\", \"B7\"],\n",
    "        \"C\": [\"C4\", \"C5\", \"C6\", \"C7\"],\n",
    "        \"D\": [\"D4\", \"D5\", \"D6\", \"D7\"],\n",
    "    },\n",
    "    index=[4, 5, 6, 7],\n",
    ")\n",
    "df3 = pd.DataFrame(\n",
    "    {\n",
    "        \"A\": [\"A8\", \"A9\", \"A10\", \"A11\"],\n",
    "        \"B\": [\"B8\", \"B9\", \"B10\", \"B11\"],\n",
    "        \"C\": [\"C8\", \"C9\", \"C10\", \"C11\"],\n",
    "        \"D\": [\"D8\", \"D9\", \"D10\", \"D11\"],\n",
    "    },\n",
    "    index=[8, 9, 10, 11],\n",
    ")\n",
    "# frames = [df1, df2, df3]\n",
    "# axis : {0, 1, …}, default 0. The axis to concatenate along.  сливаем по столбцам(0) или строкам(1)\n",
    "# join=\"outer\",  join : {‘inner’, ‘outer’}, default ‘outer’ .  How to handle indexes on other axis(es). Outer for union and inner for intersection.\n",
    "# keys : sequence, default None. Construct hierarchical index using the passed keys as the outermost level\n",
    "result = pd.concat([df1, df2, df3], axis=0, join = \"outer\" ,keys=[\"x\", \"y\", \"z\"],ignore_index = False)\n",
    "result #.loc[\"y\"]\n",
    "#https://pandas.pydata.org/pandas-docs/stable/user_guide/merging.html"
   ]
  },
  {
   "cell_type": "code",
   "execution_count": 5,
   "id": "a0ff05d7",
   "metadata": {},
   "outputs": [
    {
     "data": {
      "text/plain": [
       "0.00015254380312701432"
      ]
     },
     "execution_count": 5,
     "metadata": {},
     "output_type": "execute_result"
    }
   ],
   "source": [
    "1-stats.f.cdf(8.037,3, 56)"
   ]
  },
  {
   "cell_type": "code",
   "execution_count": null,
   "id": "0c2a7446",
   "metadata": {},
   "outputs": [],
   "source": [
    "\n",
    "# https://docs.scipy.org/doc/scipy/reference/generated/scipy.stats.norm.html\n",
    "'''\n",
    "Methods\n",
    "rvs(loc=0, scale=1, size=1, random_state=None) #Random variates.\n",
    "pdf(x, loc=0, scale=1)     Probability density function.\n",
    "logpdf(x, loc=0, scale=1)  Log of the probability density function.\n",
    "cdf(x, loc=0, scale=1)     Cumulative distribution function.\n",
    "logcdf(x, loc=0, scale=1)  Log of the cumulative distribution function.\n",
    "sf(x, loc=0, scale=1)      Survival function (also defined as 1 - cdf, but sf is sometimes more accurate).\n",
    "logsf(x, loc=0, scale=1)   Log of the survival function. \n",
    "ppf(q, loc=0, scale=1)     Percent point function (inverse of cdf — percentiles).\n",
    "isf(q, loc=0, scale=1) Inverse survival function (inverse of sf).\n",
    "moment(order, loc=0, scale=1) Non-central moment of the specified order.\n",
    "stats(loc=0, scale=1, moments=’mv’)  Mean(‘m’), variance(‘v’), skew(‘s’), and/or kurtosis(‘k’).\n",
    "entropy(loc=0, scale=1)(Differential) entropy of the RV.\n",
    "fit(data)              Parameter estimates for generic data. See scipy.stats.rv_continuous.fit for detailed documentation of the keyword arguments.\n",
    "expect(func, args=(), loc=0, scale=1, lb=None, ub=None, conditional=False, **kwds) Expected value of a function (of one argument) with respect to the distribution.\n",
    "median(loc=0, scale=1) Median of the distribution.\n",
    "mean(loc=0, scale=1)   Mean of the distribution.\n",
    "var(loc=0, scale=1)    Variance of the distribution.\n",
    "std(loc=0, scale=1)     Standard deviation of the distribution.\n",
    "interval(confidence, loc=0, scale=1)  Confidence interval with equal areas around the median.\n",
    "'''"
   ]
  },
  {
   "cell_type": "code",
   "execution_count": null,
   "id": "97202d32",
   "metadata": {},
   "outputs": [],
   "source": [
    "# ========================statsmodels.api ====================\n",
    "import statsmodels.api as sm\n",
    "sm.OLS(Y, add_constant(X)).fit().summary()  # OLS  - Ordinary Least Squares for Liner regression model  \n",
    "\n",
    "from statsmodels.formula.api import ols\n",
    "model = ols('y ~ x', data = df).fit().summary()   # OLS  - Ordinary Least Squares for Liner regression model  "
   ]
  },
  {
   "cell_type": "code",
   "execution_count": 61,
   "id": "708ee8fb",
   "metadata": {},
   "outputs": [
    {
     "data": {
      "text/html": [
       "<div>\n",
       "<style scoped>\n",
       "    .dataframe tbody tr th:only-of-type {\n",
       "        vertical-align: middle;\n",
       "    }\n",
       "\n",
       "    .dataframe tbody tr th {\n",
       "        vertical-align: top;\n",
       "    }\n",
       "\n",
       "    .dataframe thead th {\n",
       "        text-align: right;\n",
       "    }\n",
       "</style>\n",
       "<table border=\"1\" class=\"dataframe\">\n",
       "  <thead>\n",
       "    <tr style=\"text-align: right;\">\n",
       "      <th></th>\n",
       "      <th>A</th>\n",
       "      <th>B</th>\n",
       "      <th>C</th>\n",
       "      <th>D</th>\n",
       "    </tr>\n",
       "  </thead>\n",
       "  <tbody>\n",
       "    <tr>\n",
       "      <th>8</th>\n",
       "      <td>A8</td>\n",
       "      <td>B8</td>\n",
       "      <td>C8</td>\n",
       "      <td>D8</td>\n",
       "    </tr>\n",
       "    <tr>\n",
       "      <th>9</th>\n",
       "      <td>A9</td>\n",
       "      <td>B9</td>\n",
       "      <td>C9</td>\n",
       "      <td>D9</td>\n",
       "    </tr>\n",
       "    <tr>\n",
       "      <th>10</th>\n",
       "      <td>A10</td>\n",
       "      <td>B10</td>\n",
       "      <td>C10</td>\n",
       "      <td>D10</td>\n",
       "    </tr>\n",
       "    <tr>\n",
       "      <th>11</th>\n",
       "      <td>A11</td>\n",
       "      <td>B11</td>\n",
       "      <td>C11</td>\n",
       "      <td>D11</td>\n",
       "    </tr>\n",
       "  </tbody>\n",
       "</table>\n",
       "</div>"
      ],
      "text/plain": [
       "      A    B    C    D\n",
       "8    A8   B8   C8   D8\n",
       "9    A9   B9   C9   D9\n",
       "10  A10  B10  C10  D10\n",
       "11  A11  B11  C11  D11"
      ]
     },
     "execution_count": 61,
     "metadata": {},
     "output_type": "execute_result"
    }
   ],
   "source": [
    "import numpy as np\n",
    "import pandas as pd\n",
    "df3 = pd.DataFrame(\n",
    "    {\n",
    "        \"A\": [\"A8\", \"A9\", \"A10\", \"A11\"],\n",
    "        \"B\": [\"B8\", \"B9\", \"B10\", \"B11\"],\n",
    "        \"C\": [\"C8\", \"C9\", \"C10\", \"C11\"],\n",
    "        \"D\": [\"D8\", \"D9\", \"D10\", \"D11\"],\n",
    "    },\n",
    "    index=[8, 9, 10, 11],\n",
    ")\n",
    "df3\n"
   ]
  },
  {
   "cell_type": "code",
   "execution_count": null,
   "id": "91513d29",
   "metadata": {},
   "outputs": [],
   "source": [
    "#drop\n",
    "cont_features = ['Survived','Pclass','Age','SibSp','Parch','Fare','Name']\n",
    "train_df.drop(cont_features ,axis = 1 , inplace = True)\n",
    "\n",
    "#mapping\n",
    "binary_gender = {'male':0,'female':1}\n",
    "train_df['Sex'] = train_df['Sex'].map(binary_gender)\n",
    "\n",
    "train_df.describe()\n",
    "train_df.groupby('Survived').mean()\n",
    "train_df.groupby(train_df['Age'].isnull()).mean()\n",
    "df3.dropna()\n"
   ]
  },
  {
   "cell_type": "code",
   "execution_count": null,
   "id": "a9e94222",
   "metadata": {},
   "outputs": [],
   "source": [
    "# ========================= sklearn ----------------------\n",
    "from sklearn.model_selection import train_test_split\n",
    "\n",
    "features = titanic.drop('Survived', axis=1)\n",
    "labels = titanic['Survived']\n",
    "\n",
    "X_train, X_test, y_train, y_test = train_test_split(features, labels, test_size=0.4, random_state=42)\n",
    "X_test, X_val, y_test, y_val = train_test_split(X_test, y_test, test_size=0.5, random_state=42)\n",
    "print(len(labels), len(y_train), len(y_val), len(y_test))"
   ]
  },
  {
   "cell_type": "code",
   "execution_count": 65,
   "id": "a091a8e1",
   "metadata": {},
   "outputs": [],
   "source": [
    "#randome forest mdeol tutorial\n",
    "#https://www.datacamp.com/tutorial/random-forests-classifier-python\n",
    "\n",
    "#Import scikit-learn dataset library\n",
    "from sklearn import datasets\n",
    "\n",
    "#Load dataset\n",
    "iris = datasets.load_iris()\n"
   ]
  },
  {
   "cell_type": "code",
   "execution_count": 67,
   "id": "915705b1",
   "metadata": {},
   "outputs": [
    {
     "data": {
      "text/plain": [
       "sklearn.utils.Bunch"
      ]
     },
     "execution_count": 67,
     "metadata": {},
     "output_type": "execute_result"
    }
   ],
   "source": [
    "type(iris)"
   ]
  },
  {
   "cell_type": "code",
   "execution_count": null,
   "id": "0a1923ee",
   "metadata": {},
   "outputs": [],
   "source": []
  }
 ],
 "metadata": {
  "kernelspec": {
   "display_name": "Python 3 (ipykernel)",
   "language": "python",
   "name": "python3"
  },
  "language_info": {
   "codemirror_mode": {
    "name": "ipython",
    "version": 3
   },
   "file_extension": ".py",
   "mimetype": "text/x-python",
   "name": "python",
   "nbconvert_exporter": "python",
   "pygments_lexer": "ipython3",
   "version": "3.9.12"
  }
 },
 "nbformat": 4,
 "nbformat_minor": 5
}
